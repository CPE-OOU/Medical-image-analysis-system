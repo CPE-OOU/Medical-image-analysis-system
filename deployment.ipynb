{
  "cells": [
    {
      "cell_type": "markdown",
      "metadata": {
        "id": "view-in-github",
        "colab_type": "text"
      },
      "source": [
        "<a href=\"https://colab.research.google.com/github/Heisbana/Medical-image-analysis/blob/main/deployment.ipynb\" target=\"_parent\"><img src=\"https://colab.research.google.com/assets/colab-badge.svg\" alt=\"Open In Colab\"/></a>"
      ]
    },
    {
      "cell_type": "code",
      "execution_count": 1,
      "metadata": {
        "colab": {
          "base_uri": "https://localhost:8080/"
        },
        "id": "lxHfTiQJ17U8",
        "outputId": "91af3ff9-44d6-4903-f390-ccb7b9bfdae2"
      },
      "outputs": [
        {
          "output_type": "stream",
          "name": "stdout",
          "text": [
            "Collecting flask_ngrok\n",
            "  Downloading flask_ngrok-0.0.25-py3-none-any.whl (3.1 kB)\n",
            "Requirement already satisfied: Flask>=0.8 in /usr/local/lib/python3.10/dist-packages (from flask_ngrok) (2.2.5)\n",
            "Requirement already satisfied: requests in /usr/local/lib/python3.10/dist-packages (from flask_ngrok) (2.31.0)\n",
            "Requirement already satisfied: Werkzeug>=2.2.2 in /usr/local/lib/python3.10/dist-packages (from Flask>=0.8->flask_ngrok) (3.0.1)\n",
            "Requirement already satisfied: Jinja2>=3.0 in /usr/local/lib/python3.10/dist-packages (from Flask>=0.8->flask_ngrok) (3.1.2)\n",
            "Requirement already satisfied: itsdangerous>=2.0 in /usr/local/lib/python3.10/dist-packages (from Flask>=0.8->flask_ngrok) (2.1.2)\n",
            "Requirement already satisfied: click>=8.0 in /usr/local/lib/python3.10/dist-packages (from Flask>=0.8->flask_ngrok) (8.1.7)\n",
            "Requirement already satisfied: charset-normalizer<4,>=2 in /usr/local/lib/python3.10/dist-packages (from requests->flask_ngrok) (3.3.2)\n",
            "Requirement already satisfied: idna<4,>=2.5 in /usr/local/lib/python3.10/dist-packages (from requests->flask_ngrok) (3.6)\n",
            "Requirement already satisfied: urllib3<3,>=1.21.1 in /usr/local/lib/python3.10/dist-packages (from requests->flask_ngrok) (2.0.7)\n",
            "Requirement already satisfied: certifi>=2017.4.17 in /usr/local/lib/python3.10/dist-packages (from requests->flask_ngrok) (2023.11.17)\n",
            "Requirement already satisfied: MarkupSafe>=2.0 in /usr/local/lib/python3.10/dist-packages (from Jinja2>=3.0->Flask>=0.8->flask_ngrok) (2.1.3)\n",
            "Installing collected packages: flask_ngrok\n",
            "Successfully installed flask_ngrok-0.0.25\n"
          ]
        }
      ],
      "source": [
        "!pip install flask_ngrok\n"
      ]
    },
    {
      "cell_type": "code",
      "execution_count": null,
      "metadata": {
        "colab": {
          "base_uri": "https://localhost:8080/"
        },
        "id": "_a6u1I0d2D60",
        "outputId": "940395c7-00f8-4159-b965-116143e24ba8"
      },
      "outputs": [
        {
          "name": "stdout",
          "output_type": "stream",
          "text": [
            "Drive already mounted at /content/drive; to attempt to forcibly remount, call drive.mount(\"/content/drive\", force_remount=True).\n"
          ]
        }
      ],
      "source": [
        "from google.colab import drive\n",
        "drive.mount('/content/drive')"
      ]
    },
    {
      "cell_type": "code",
      "execution_count": null,
      "metadata": {
        "colab": {
          "base_uri": "https://localhost:8080/",
          "height": 34
        },
        "id": "tQES-H4D4PXM",
        "outputId": "71cdf943-2648-4674-e71b-4150baf05da8"
      },
      "outputs": [
        {
          "name": "stdout",
          "output_type": "stream",
          "text": [
            "https://7pphe75mrse-496ff2e9c6d22116-5000-colab.googleusercontent.com/\n"
          ]
        }
      ],
      "source": [
        "from google.colab.output import eval_js\n",
        "print(eval_js(\"google.colab.kernel.proxyPort(5000)\"))"
      ]
    },
    {
      "cell_type": "code",
      "execution_count": null,
      "metadata": {
        "colab": {
          "base_uri": "https://localhost:8080/"
        },
        "id": "wLLKh7n7NwOW",
        "outputId": "e6a2fca1-ecb7-446c-b749-a7856a3f8282"
      },
      "outputs": [
        {
          "name": "stdout",
          "output_type": "stream",
          "text": [
            "Collecting pyngrok\n",
            "  Downloading pyngrok-7.0.3-py3-none-any.whl (21 kB)\n",
            "Requirement already satisfied: PyYAML in /usr/local/lib/python3.10/dist-packages (from pyngrok) (6.0.1)\n",
            "Installing collected packages: pyngrok\n",
            "Successfully installed pyngrok-7.0.3\n"
          ]
        }
      ],
      "source": [
        "!pip install pyngrok"
      ]
    },
    {
      "cell_type": "code",
      "execution_count": null,
      "metadata": {
        "colab": {
          "base_uri": "https://localhost:8080/"
        },
        "id": "6RWjM7lHNbMy",
        "outputId": "b1ba879a-7b1a-4e26-e213-c280b8e458b6"
      },
      "outputs": [
        {
          "name": "stdout",
          "output_type": "stream",
          "text": []
        }
      ],
      "source": [
        "from flask import Flask\n",
        "from pyngrok import ngrok\n",
        "\n",
        "\n",
        "ngrok.set_auth_token('2ZRPkbiMwQtp9vcLtza9BNHKdA2_2XZSVA6eqXFCev1WP69Bz')\n",
        "public_url = ngrok.connect(5000).public_url"
      ]
    },
    {
      "cell_type": "code",
      "execution_count": null,
      "metadata": {
        "colab": {
          "base_uri": "https://localhost:8080/"
        },
        "id": "tRTl9t3tObmF",
        "outputId": "44ac7aac-34bd-4887-ed4c-9eedd26f640a"
      },
      "outputs": [
        {
          "name": "stdout",
          "output_type": "stream",
          "text": [
            "https://349c-35-243-206-214.ngrok-free.app\n"
          ]
        }
      ],
      "source": [
        "print(public_url)"
      ]
    },
    {
      "cell_type": "code",
      "execution_count": null,
      "metadata": {
        "id": "MnZU2infZQl2"
      },
      "outputs": [],
      "source": [
        "from keras.preprocessing.image import ImageDataGenerator\n",
        "from keras.applications.inception_v3 import preprocess_input\n",
        "\n",
        "train_datagen = ImageDataGenerator(featurewise_center = True, rotation_range=0.4,\n",
        "                                  width_shift_range=0.3,\n",
        "                                  horizontal_flip=True,\n",
        "                                  preprocessing_function= preprocess_input,\n",
        "                                  zoom_range=0.4,\n",
        "                                  shear_range = 0.4)"
      ]
    },
    {
      "cell_type": "code",
      "execution_count": null,
      "metadata": {
        "colab": {
          "base_uri": "https://localhost:8080/"
        },
        "id": "ZRr1oPQV2aqW",
        "outputId": "7f7927e9-5557-44f0-e37f-8c89755b7504"
      },
      "outputs": [
        {
          "name": "stderr",
          "output_type": "stream",
          "text": [
            "Exception in thread _colab_inspector_thread:\n",
            "Traceback (most recent call last):\n",
            "  File \"/usr/lib/python3.10/threading.py\", line 1016, in _bootstrap_inner\n",
            "    self.run()\n",
            "  File \"/usr/lib/python3.10/threading.py\", line 953, in run\n",
            "    self._target(*self._args, **self._kwargs)\n",
            "  File \"/usr/local/lib/python3.10/dist-packages/google/colab/_debugpy.py\", line 64, in inspector_thread\n",
            "    _variable_inspector.run(shell, time)\n",
            "  File \"/usr/local/lib/python3.10/dist-packages/google/colab/_variable_inspector.py\", line 27, in run\n",
            "    globals().clear()\n",
            "TypeError: 'module' object is not callable\n"
          ]
        }
      ],
      "source": [
        "from flask import *\n",
        "from flask_ngrok import run_with_ngrok\n",
        "from tensorflow.keras.models import load_model\n",
        "from tensorflow.keras.preprocessing import image\n",
        "import numpy as np\n",
        "from PIL import Image\n",
        "import numpy as np\n",
        "import matplotlib.pyplot as plt\n",
        "import matplotlib.image as mpimg\n",
        "\n",
        "\n",
        "import numpy as np\n",
        "from pyngrok import ngrok\n",
        "\n",
        "ngrok.set_auth_token('2ZOiheQKRVGgH6Q5IPmb8gJSkDv_37ESVyTtKNC3nZttuAupo')\n",
        "public_url = ngrok.connect(5000).public_url\n",
        "\n",
        "app = Flask(__name__, template_folder='/content/drive/MyDrive/templates')\n",
        "\n",
        "\n",
        "# Load your models here\n",
        "kidney_model = load_model('/content/drive/MyDrive/kidney_best.h5')\n",
        "chest_model = load_model('/content/drive/MyDrive/chest_best.h5')\n",
        "\n",
        "# Preprocessing function for kidney model\n",
        "def preprocess_image_kidney(image):\n",
        "  try:\n",
        "        # Load and preprocess the new image\n",
        "        img = Image.open(image)\n",
        "        img = img.convert('L')  # Convert to grayscale\n",
        "        img = img.resize((200, 200))\n",
        "        img_array = np.array(img)\n",
        "        img_array = np.expand_dims(img_array, axis=0)\n",
        "        processed_image = img_array / 255.0\n",
        "        processed_image\n",
        "        return processed_image\n",
        "  except Exception as e:\n",
        "        return str(e)\n",
        "\n",
        "# Preprocessing function for chest model\n",
        "def preprocess_image_chest(image):\n",
        "    try:\n",
        "        processed_image = train_datagen.flow_from_directory(directory=image,\n",
        "                                              target_size=(256,256),\n",
        "                                              batch_size=32)\n",
        "        return processed_image\n",
        "    except Exception as e:\n",
        "        return str(e)\n",
        "\n",
        "# Model 1 route\n",
        "@app.route('/', methods=['GET', 'POST'])\n",
        "def model1_route():\n",
        "    if request.method == 'POST':\n",
        "        # Load and preprocess image\n",
        "        img = preprocess_image_kidney(request.files['image'])\n",
        "\n",
        "        # Perform prediction using Model 1\n",
        "        predictions = kidney_model.predict(img)\n",
        "        class_labels = ['Cyst', 'Normal','Stone','Tumor']  # Replace with your class labels\n",
        "        predicted_class = class_labels[np.argmax(predictions)]\n",
        "        confidence = predictions[0][np.argmax(predictions)]  # Probability of the predicted class\n",
        "        return render_template('model1.html', predicted_class=predicted_class, confidence=confidence)\n",
        "    else:\n",
        "        return render_template('model1.html')\n",
        "\n",
        "# Model 2 route\n",
        "@app.route('/model2', methods=['GET', 'POST'])\n",
        "def model2_route():\n",
        "    if request.method == 'POST':\n",
        "        # Load and preprocess image\n",
        "        img = preprocess_image_chest(request.files['image'])\n",
        "\n",
        "        # Perform prediction using Model 2\n",
        "        predictions = chest_model.predict(img)\n",
        "        class_labels = ['NORMAL', 'PNEUMONIA']\n",
        "        predicted_class = class_labels[np.argmax(predictions)]\n",
        "        confidence = predictions[0][np.argmax(predictions)]\n",
        "\n",
        "        return render_template('model2.html', predicted_class=predicted_class, confidence=confidence)\n",
        "    else:\n",
        "        return render_template('model2.html')\n",
        "\n",
        "\n",
        "\n"
      ]
    },
    {
      "cell_type": "code",
      "execution_count": null,
      "metadata": {
        "colab": {
          "background_save": true,
          "base_uri": "https://localhost:8080/"
        },
        "id": "eTJ2ZQAl7QAU",
        "outputId": "a391030d-0b1e-40de-cf87-c3d7d24b8dc7"
      },
      "outputs": [
        {
          "name": "stdout",
          "output_type": "stream",
          "text": [
            "Access Colab link Click:https://ef6a-34-23-176-137.ngrok-free.app\n",
            " * Serving Flask app '__main__'\n",
            " * Debug mode: off\n"
          ]
        },
        {
          "name": "stderr",
          "output_type": "stream",
          "text": [
            "INFO:werkzeug:\u001b[31m\u001b[1mWARNING: This is a development server. Do not use it in a production deployment. Use a production WSGI server instead.\u001b[0m\n",
            " * Running on http://127.0.0.1:5000\n",
            "INFO:werkzeug:\u001b[33mPress CTRL+C to quit\u001b[0m\n",
            "INFO:werkzeug:127.0.0.1 - - [13/Dec/2023 14:56:35] \"GET / HTTP/1.1\" 200 -\n",
            "INFO:werkzeug:127.0.0.1 - - [13/Dec/2023 14:56:35] \"GET / HTTP/1.1\" 200 -\n",
            "INFO:werkzeug:127.0.0.1 - - [13/Dec/2023 14:56:36] \"\u001b[33mGET /favicon.ico HTTP/1.1\u001b[0m\" 404 -\n"
          ]
        },
        {
          "name": "stdout",
          "output_type": "stream",
          "text": [
            "1/1 [==============================] - 0s 392ms/step\n"
          ]
        },
        {
          "name": "stderr",
          "output_type": "stream",
          "text": [
            "INFO:werkzeug:127.0.0.1 - - [13/Dec/2023 14:57:39] \"POST / HTTP/1.1\" 200 -\n",
            "INFO:werkzeug:127.0.0.1 - - [13/Dec/2023 14:57:40] \"GET / HTTP/1.1\" 200 -\n"
          ]
        }
      ],
      "source": [
        "print('Access Colab link Click:'f'{public_url}')\n",
        "app.run(port=5000)\n"
      ]
    }
  ],
  "metadata": {
    "colab": {
      "provenance": [],
      "mount_file_id": "15e8uogp5MTzUXHX78HQCLOWaeY0eCMXU",
      "authorship_tag": "ABX9TyM7qf04Up5Dwob0+aWX7EI9",
      "include_colab_link": true
    },
    "kernelspec": {
      "display_name": "Python 3",
      "name": "python3"
    },
    "language_info": {
      "name": "python"
    }
  },
  "nbformat": 4,
  "nbformat_minor": 0
}